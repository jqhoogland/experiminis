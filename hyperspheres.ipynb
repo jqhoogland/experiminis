{
 "cells": [
  {
   "cell_type": "code",
   "execution_count": null,
   "metadata": {},
   "outputs": [],
   "source": []
  }
 ],
 "metadata": {
  "kernelspec": {
   "display_name": "notes",
   "language": "python",
   "name": "python3"
  },
  "language_info": {
   "name": "python",
   "version": "3.9.15 (main, Nov 24 2022, 08:29:02) \n[Clang 14.0.6 ]"
  },
  "orig_nbformat": 4,
  "vscode": {
   "interpreter": {
    "hash": "10e632b798d4d368e3d8cd91eeec2b91ea4b8c349bc8b89a8c3db002c19b56bb"
   }
  }
 },
 "nbformat": 4,
 "nbformat_minor": 2
}
