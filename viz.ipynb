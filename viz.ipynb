{
 "cells": [
  {
   "cell_type": "code",
   "execution_count": null,
   "metadata": {},
   "outputs": [
    {
     "ename": "",
     "evalue": "",
     "output_type": "error",
     "traceback": [
      "\u001b[1;31mRunning cells with 'notes' requires ipykernel package.\n",
      "\u001b[1;31mRun the following command to install 'ipykernel' into the Python environment. \n",
      "\u001b[1;31mCommand: '/Users/Jesse/Projects/notes/serimats/notes/bin/python -m pip install ipykernel -U --force-reinstall'"
     ]
    }
   ],
   "source": [
    "import np as np\n",
    "import matplotlib.pyplot as plt"
   ]
  },
  {
   "cell_type": "code",
   "execution_count": null,
   "metadata": {},
   "outputs": [],
   "source": [
    "fig, axes = plt.subplots(1, 2, figsize=(10, 5))\n",
    "\n",
    "# Plot a mixture of Gaussians\n",
    "axes[0].set_title(\"$p(D_n|w)$\")\n",
    "axes[1].set_title(r\"$-\\log p(D_n|w)$\")\n",
    "\n",
    "x = np.linspace(-5, 5, 1000)\n",
    "y = 0.9 * np.exp(-x**2 / 2) / np.sqrt(2 * np.pi) + 0.3 * np.exp(-(x - 2)**2 / 2) / np.sqrt(2 * np.pi) +  0.1 * np.exp(-(x + 1)**2 / 2) / np.sqrt(2 * np.pi)\n",
    "\n",
    "axes[0].plot(x, y)\n",
    "axes[1].plot(x, -np.log(y))\n",
    "\n",
    "# Plot a Gaussian distribution\n",
    "\n",
    "x = np.linspace(-5, 5, 1000)\n",
    "y = np.exp(-x**2 / 2) / np.sqrt(2 * np.pi)\n",
    "axes[0].plot(x, y)\n",
    "axes[1].plot(x, -np.log(y))\n",
    "\n",
    "fig.tight_layout(pad=-3.0)\n",
    "\n",
    "for ax in axes:\n",
    "    ax.axis(\"off\")\n",
    "    # ax.spines['top'].set_visible(False)\n",
    "    # ax.spines['right'].set_visible(False)\n",
    "    # ax.spines['bottom'].set_visible(False)\n",
    "    # ax.spines['left'].set_visible(False)\n",
    "\n",
    "# Resolution\n",
    "dpi = 300\n",
    "fig.set_size_inches(1920 / dpi, 720 / dpi)\n",
    "fig.set_dpi(dpi)\n",
    "\n",
    "# Transparent background\n",
    "fig.patch.set_alpha(0.0)\n",
    "\n",
    "plt.show()"
   ]
  }
 ],
 "metadata": {
  "kernelspec": {
   "display_name": "notes",
   "language": "python",
   "name": "python3"
  },
  "language_info": {
   "codemirror_mode": {
    "name": "ipython",
    "version": 3
   },
   "file_extension": ".py",
   "mimetype": "text/x-python",
   "name": "python",
   "nbconvert_exporter": "python",
   "pygments_lexer": "ipython3",
   "version": "3.9.15 (main, Nov 24 2022, 08:29:02) \n[Clang 14.0.6 ]"
  },
  "orig_nbformat": 4,
  "vscode": {
   "interpreter": {
    "hash": "10e632b798d4d368e3d8cd91eeec2b91ea4b8c349bc8b89a8c3db002c19b56bb"
   }
  }
 },
 "nbformat": 4,
 "nbformat_minor": 2
}
